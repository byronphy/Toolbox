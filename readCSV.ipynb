{
 "cells": [
  {
   "cell_type": "code",
   "execution_count": 7,
   "metadata": {},
   "outputs": [],
   "source": [
    "import os\n",
    "import pandas as pd"
   ]
  },
  {
   "cell_type": "markdown",
   "metadata": {},
   "source": [
    "# Patch\n"
   ]
  },
  {
   "cell_type": "code",
   "execution_count": 19,
   "metadata": {},
   "outputs": [],
   "source": [
    "# 输入CSV文件夹的路径\n",
    "input_folder = \"G:\\\\QA_Report\\\\8Tx\\\\Report\"\n",
    "\n",
    "# 输出合并后的CSV文件的路径\n",
    "output_file = \"G:\\\\QA_Report\\\\8Tx\\\\merged.csv\"\n",
    "\n",
    "# 初始化一个DataFrame来存储整理后的数据\n",
    "merged_data = pd.DataFrame()\n",
    "\n",
    "# 遍历输入文件夹中的所有CSV文件\n",
    "for filename in os.listdir(input_folder):\n",
    "    if filename.endswith(\".csv\"):\n",
    "        csv_file_path = os.path.join(input_folder, filename)\n",
    "\n",
    "        # 读取CSV文件的第二行数据\n",
    "        data = pd.read_csv(csv_file_path, nrows=1)\n",
    "\n",
    "        # 将数据添加到整理后的DataFrame中\n",
    "        merged_data = pd.concat([merged_data, data], ignore_index=True)\n",
    "        \n",
    "# 将整理后的数据保存到新的CSV文件\n",
    "merged_data.to_csv(output_file, index=False)\n",
    "\n",
    "\n"
   ]
  }
 ],
 "metadata": {
  "kernelspec": {
   "display_name": "base",
   "language": "python",
   "name": "python3"
  },
  "language_info": {
   "codemirror_mode": {
    "name": "ipython",
    "version": 3
   },
   "file_extension": ".py",
   "mimetype": "text/x-python",
   "name": "python",
   "nbconvert_exporter": "python",
   "pygments_lexer": "ipython3",
   "version": "3.8.8"
  },
  "orig_nbformat": 4
 },
 "nbformat": 4,
 "nbformat_minor": 2
}
