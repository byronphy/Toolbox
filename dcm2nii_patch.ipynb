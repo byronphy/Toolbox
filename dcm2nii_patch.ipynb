{
 "cells": [
  {
   "cell_type": "code",
   "execution_count": 1,
   "metadata": {},
   "outputs": [],
   "source": [
    "import os"
   ]
  },
  {
   "cell_type": "code",
   "execution_count": 4,
   "metadata": {},
   "outputs": [
    {
     "data": {
      "text/plain": [
       "'dcm2niix -z y -f REST_EP2D_M4P4_0_8MM_PA_RR_0050_ph -o E:\\\\Bolin\\\\7T_8Tx\\\\20230927_Comparison_7T\\\\Data E:\\\\Bolin\\\\7T_8Tx\\\\20230927_Comparison_7T\\\\Data\\\\DICOM\\\\REST_EP2D_M4P4_0_8MM_PA_RR_0050'"
      ]
     },
     "metadata": {},
     "output_type": "display_data"
    },
    {
     "data": {
      "text/plain": [
       "0"
      ]
     },
     "execution_count": 4,
     "metadata": {},
     "output_type": "execute_result"
    }
   ],
   "source": [
    "output_path = 'E:\\\\Bolin\\\\7T_8Tx\\\\20230927_Comparison_7T\\\\Data'\n",
    "output_nii_name = 'REST_EP2D_M4P4_0_8MM_PA_RR_0050_ph'\n",
    "input_dcm_folder_path = 'E:\\\\Bolin\\\\7T_8Tx\\\\20230927_Comparison_7T\\\\Data\\\\DICOM\\\\REST_EP2D_M4P4_0_8MM_PA_RR_0050'\n",
    "\n",
    "param = 'dcm2niix -z y -f '\n",
    "#param = 'dcm2niix -f '\n",
    "command_line = param + output_nii_name + ' -o ' + output_path + ' ' + input_dcm_folder_path\n",
    "display(command_line)\n",
    "os.system(command_line)"
   ]
  },
  {
   "cell_type": "markdown",
   "metadata": {},
   "source": [
    "# Patch\n"
   ]
  },
  {
   "cell_type": "code",
   "execution_count": 2,
   "metadata": {},
   "outputs": [
    {
     "data": {
      "text/plain": [
       "'dcm2niix -z y -f COILCHECK_0003 -o E:\\\\Bolin\\\\QA\\\\python-test\\\\20231020_QA_7T_8Tx_Long\\\\NIFTI E:\\\\Bolin\\\\QA\\\\python-test\\\\20231020_QA_7T_8Tx_Long\\\\DICOM\\\\COILCHECK_0003'"
      ]
     },
     "metadata": {},
     "output_type": "display_data"
    },
    {
     "data": {
      "text/plain": [
       "'dcm2niix -z y -f COILCHECK_0004 -o E:\\\\Bolin\\\\QA\\\\python-test\\\\20231020_QA_7T_8Tx_Long\\\\NIFTI E:\\\\Bolin\\\\QA\\\\python-test\\\\20231020_QA_7T_8Tx_Long\\\\DICOM\\\\COILCHECK_0004'"
      ]
     },
     "metadata": {},
     "output_type": "display_data"
    },
    {
     "data": {
      "text/plain": [
       "'dcm2niix -z y -f EP2D_BOLD_M3P3_1_5MM_FA10_0009 -o E:\\\\Bolin\\\\QA\\\\python-test\\\\20231020_QA_7T_8Tx_Long\\\\NIFTI E:\\\\Bolin\\\\QA\\\\python-test\\\\20231020_QA_7T_8Tx_Long\\\\DICOM\\\\EP2D_BOLD_M3P3_1_5MM_FA10_0009'"
      ]
     },
     "metadata": {},
     "output_type": "display_data"
    },
    {
     "data": {
      "text/plain": [
       "'dcm2niix -z y -f EP2D_BOLD_M3P3_1_5MM_FA10_RR_0012 -o E:\\\\Bolin\\\\QA\\\\python-test\\\\20231020_QA_7T_8Tx_Long\\\\NIFTI E:\\\\Bolin\\\\QA\\\\python-test\\\\20231020_QA_7T_8Tx_Long\\\\DICOM\\\\EP2D_BOLD_M3P3_1_5MM_FA10_RR_0012'"
      ]
     },
     "metadata": {},
     "output_type": "display_data"
    },
    {
     "data": {
      "text/plain": [
       "'dcm2niix -z y -f EP2D_BOLD_M3P3_1_5MM_QA1_0007 -o E:\\\\Bolin\\\\QA\\\\python-test\\\\20231020_QA_7T_8Tx_Long\\\\NIFTI E:\\\\Bolin\\\\QA\\\\python-test\\\\20231020_QA_7T_8Tx_Long\\\\DICOM\\\\EP2D_BOLD_M3P3_1_5MM_QA1_0007'"
      ]
     },
     "metadata": {},
     "output_type": "display_data"
    },
    {
     "data": {
      "text/plain": [
       "'dcm2niix -z y -f EP2D_BOLD_M3P3_1_5MM_QA1_RR_0010 -o E:\\\\Bolin\\\\QA\\\\python-test\\\\20231020_QA_7T_8Tx_Long\\\\NIFTI E:\\\\Bolin\\\\QA\\\\python-test\\\\20231020_QA_7T_8Tx_Long\\\\DICOM\\\\EP2D_BOLD_M3P3_1_5MM_QA1_RR_0010'"
      ]
     },
     "metadata": {},
     "output_type": "display_data"
    },
    {
     "data": {
      "text/plain": [
       "'dcm2niix -z y -f EP2D_BOLD_M3P3_1_5MM_QA2_0008 -o E:\\\\Bolin\\\\QA\\\\python-test\\\\20231020_QA_7T_8Tx_Long\\\\NIFTI E:\\\\Bolin\\\\QA\\\\python-test\\\\20231020_QA_7T_8Tx_Long\\\\DICOM\\\\EP2D_BOLD_M3P3_1_5MM_QA2_0008'"
      ]
     },
     "metadata": {},
     "output_type": "display_data"
    },
    {
     "data": {
      "text/plain": [
       "'dcm2niix -z y -f EP2D_BOLD_M3P3_1_5MM_QA2_RR_0011 -o E:\\\\Bolin\\\\QA\\\\python-test\\\\20231020_QA_7T_8Tx_Long\\\\NIFTI E:\\\\Bolin\\\\QA\\\\python-test\\\\20231020_QA_7T_8Tx_Long\\\\DICOM\\\\EP2D_BOLD_M3P3_1_5MM_QA2_RR_0011'"
      ]
     },
     "metadata": {},
     "output_type": "display_data"
    },
    {
     "data": {
      "text/plain": [
       "'dcm2niix -z y -f GRE_FIELD_MAPPING_TRA_1_5MM_0005 -o E:\\\\Bolin\\\\QA\\\\python-test\\\\20231020_QA_7T_8Tx_Long\\\\NIFTI E:\\\\Bolin\\\\QA\\\\python-test\\\\20231020_QA_7T_8Tx_Long\\\\DICOM\\\\GRE_FIELD_MAPPING_TRA_1_5MM_0005'"
      ]
     },
     "metadata": {},
     "output_type": "display_data"
    },
    {
     "data": {
      "text/plain": [
       "'dcm2niix -z y -f GRE_FIELD_MAPPING_TRA_1_5MM_0006 -o E:\\\\Bolin\\\\QA\\\\python-test\\\\20231020_QA_7T_8Tx_Long\\\\NIFTI E:\\\\Bolin\\\\QA\\\\python-test\\\\20231020_QA_7T_8Tx_Long\\\\DICOM\\\\GRE_FIELD_MAPPING_TRA_1_5MM_0006'"
      ]
     },
     "metadata": {},
     "output_type": "display_data"
    }
   ],
   "source": [
    "param = 'dcm2niix -z y -f '\n",
    "\n",
    "main_path = 'E:\\\\Bolin\\\\QA\\python-test\\\\20231020_QA_7T_8Tx_Long'\n",
    "dcm_path = main_path+'\\\\DICOM'\n",
    "nii_path = main_path+'\\\\NIFTI'\n",
    "\n",
    "for name in os.listdir(dcm_path):\n",
    "    input_dcm_folder_path = dcm_path+'\\\\'+name\n",
    "    command_line = param+name+' -o '+nii_path+' '+input_dcm_folder_path\n",
    "    display(command_line)\n",
    "    os.system(command_line)"
   ]
  },
  {
   "cell_type": "markdown",
   "metadata": {},
   "source": [
    "# CRR test"
   ]
  },
  {
   "cell_type": "code",
   "execution_count": null,
   "metadata": {},
   "outputs": [],
   "source": [
    "for sub in ['01','02','03','05','06','14']:\n",
    "    # anat\n",
    "    output_path = 'G:\\\\Bolin\\\\SVO-Data\\\\dataset\\\\sub-'+sub+'\\\\anat'\n",
    "    output_nii_name = 'sub-'+sub+'_T1w'\n",
    "    input_dcm_folder_path = 'G:\\\\Bolin\\\\SVO-Data\\\\unzip\\\\20190820_T01_LIUC_XZH_QINYAJIE\\\\0006'\n",
    "\n",
    "    #param = 'dcm2niix -z y -f '\n",
    "    param = 'dcm2niix -f '\n",
    "    command_line = param + output_nii_name + ' -o ' + output_path + ' ' + input_dcm_folder_path\n",
    "    display(command_line)\n",
    "    os.system(command_line)"
   ]
  },
  {
   "cell_type": "code",
   "execution_count": 17,
   "metadata": {},
   "outputs": [
    {
     "data": {
      "text/plain": [
       "'dcm2niix -f sub-14_T1w -o G:\\\\Bolin\\\\SVO-Data\\\\dataset\\\\sub-14\\\\anat G:\\\\Bolin\\\\SVO-Data\\\\unzip\\\\20190821_T08_LIUC_XZH_LINWEI\\\\0002'"
      ]
     },
     "metadata": {},
     "output_type": "display_data"
    },
    {
     "data": {
      "text/plain": [
       "'dcm2niix -f sub-14_bold_ER -o G:\\\\Bolin\\\\SVO-Data\\\\dataset\\\\sub-14\\\\boldER G:\\\\Bolin\\\\SVO-Data\\\\unzip\\\\20190821_T08_LIUC_XZH_LINWEI\\\\0003'"
      ]
     },
     "metadata": {},
     "output_type": "display_data"
    },
    {
     "data": {
      "text/plain": [
       "'dcm2niix -f sub-14_bold_UG-1 -o G:\\\\Bolin\\\\SVO-Data\\\\dataset\\\\sub-14\\\\boldUG-1 G:\\\\Bolin\\\\SVO-Data\\\\unzip\\\\20190821_T08_LIUC_XZH_LINWEI\\\\0004'"
      ]
     },
     "metadata": {},
     "output_type": "display_data"
    },
    {
     "data": {
      "text/plain": [
       "'dcm2niix -f sub-14_bold_UG-2 -o G:\\\\Bolin\\\\SVO-Data\\\\dataset\\\\sub-14\\\\boldUG-2 G:\\\\Bolin\\\\SVO-Data\\\\unzip\\\\20190821_T08_LIUC_XZH_LINWEI\\\\0005'"
      ]
     },
     "metadata": {},
     "output_type": "display_data"
    },
    {
     "data": {
      "text/plain": [
       "'dcm2niix -f sub-14_bold_UG-3 -o G:\\\\Bolin\\\\SVO-Data\\\\dataset\\\\sub-14\\\\boldUG-3 G:\\\\Bolin\\\\SVO-Data\\\\unzip\\\\20190821_T08_LIUC_XZH_LINWEI\\\\0006'"
      ]
     },
     "metadata": {},
     "output_type": "display_data"
    },
    {
     "data": {
      "text/plain": [
       "0"
      ]
     },
     "execution_count": 17,
     "metadata": {},
     "output_type": "execute_result"
    }
   ],
   "source": [
    "sub = '14'\n",
    "mainpath = 'G:\\\\Bolin\\\\SVO-Data\\\\unzip\\\\'\n",
    "name = '20190821_T08_LIUC_XZH_LINWEI'\n",
    "\n",
    "# anat\n",
    "output_path = 'G:\\\\Bolin\\\\SVO-Data\\\\dataset\\\\sub-'+sub+'\\\\anat'\n",
    "output_nii_name = 'sub-'+sub+'_T1w'\n",
    "input_dcm_folder_path = mainpath+name+'\\\\0002'\n",
    "\n",
    "param = 'dcm2niix -f '\n",
    "command_line = param + output_nii_name + ' -o ' + output_path + ' ' + input_dcm_folder_path\n",
    "display(command_line)\n",
    "os.system(command_line)\n",
    "\n",
    "# bold rs\n",
    "output_path = 'G:\\\\Bolin\\\\SVO-Data\\\\dataset\\\\sub-'+sub+'\\\\boldER'\n",
    "output_nii_name = 'sub-'+sub+'_bold_ER'\n",
    "input_dcm_folder_path = mainpath+name+'\\\\0003'\n",
    "\n",
    "param = 'dcm2niix -f '\n",
    "command_line = param + output_nii_name + ' -o ' + output_path + ' ' + input_dcm_folder_path\n",
    "display(command_line)\n",
    "os.system(command_line)\n",
    "\n",
    "# bold UG-1\n",
    "output_path = 'G:\\\\Bolin\\\\SVO-Data\\\\dataset\\\\sub-'+sub+'\\\\boldUG-1'\n",
    "output_nii_name = 'sub-'+sub+'_bold_UG-1'\n",
    "input_dcm_folder_path = mainpath+name+'\\\\0004'\n",
    "\n",
    "param = 'dcm2niix -f '\n",
    "command_line = param + output_nii_name + ' -o ' + output_path + ' ' + input_dcm_folder_path\n",
    "display(command_line)\n",
    "os.system(command_line)\n",
    "\n",
    "# bold UG-2\n",
    "output_path = 'G:\\\\Bolin\\\\SVO-Data\\\\dataset\\\\sub-'+sub+'\\\\boldUG-2'\n",
    "output_nii_name = 'sub-'+sub+'_bold_UG-2'\n",
    "input_dcm_folder_path = mainpath+name+'\\\\0005'\n",
    "\n",
    "param = 'dcm2niix -f '\n",
    "command_line = param + output_nii_name + ' -o ' + output_path + ' ' + input_dcm_folder_path\n",
    "display(command_line)\n",
    "os.system(command_line)\n",
    "\n",
    "# bold UG-3\n",
    "output_path = 'G:\\\\Bolin\\\\SVO-Data\\\\dataset\\\\sub-'+sub+'\\\\boldUG-3'\n",
    "output_nii_name = 'sub-'+sub+'_bold_UG-3'\n",
    "input_dcm_folder_path = mainpath+name+'\\\\0006'\n",
    "\n",
    "param = 'dcm2niix -f '\n",
    "command_line = param + output_nii_name + ' -o ' + output_path + ' ' + input_dcm_folder_path\n",
    "display(command_line)\n",
    "os.system(command_line)\n"
   ]
  },
  {
   "cell_type": "markdown",
   "metadata": {},
   "source": [
    "# test"
   ]
  },
  {
   "cell_type": "code",
   "execution_count": null,
   "metadata": {},
   "outputs": [],
   "source": [
    "# Field_Map\n",
    "output_path = 'E:\\\\Relaxation\\\\20230801_Agar_relaxation_pTxCP\\\\NIFTI\\\\Agar_02\\\\Field_Map'\n",
    "output_nii_name = ['Magnitude', 'Phase_delta']\n",
    "input_dcm_folder_path = ['E:\\\\Relaxation\\\\20230801_Agar_relaxation_pTxCP\\\\AGAR2_TEST_02\\\\BOLINQIN_TEST_20230810_145545_960000\\\\GRE_FIELD_MAPPING_0013',\n",
    "                        'E:\\\\Relaxation\\\\20230801_Agar_relaxation_pTxCP\\\\AGAR2_TEST_02\\\\BOLINQIN_TEST_20230810_145545_960000\\\\GRE_FIELD_MAPPING_0014']\n",
    "\n",
    "param = 'dcm2niix -z y -f '\n",
    "for i in range(len(output_nii_name)):\n",
    "    command_line = param + output_nii_name[i] + ' -o ' + output_path + ' ' + input_dcm_folder_path[i]\n",
    "    display(command_line)\n",
    "    os.system(command_line)"
   ]
  },
  {
   "cell_type": "code",
   "execution_count": null,
   "metadata": {},
   "outputs": [],
   "source": [
    "# IRSE\n",
    "# B0_Map\n",
    "output_path = 'E:\\\\Relaxation\\\\20230801_Agar_relaxation_pTxCP\\\\NIFTI\\\\Agar_02\\\\IRSE'\n",
    "output_nii_name = ['TI33', 'TI100', 'TI500', 'TI1000', 'TI1500', 'TI2000', 'TI2500', 'TI3000']\n",
    "input_dcm_folder_path = ['E:\\\\Relaxation\\\\20230801_Agar_relaxation_pTxCP\\\\AGAR2_TEST_02\\\\BOLINQIN_TEST_20230810_145545_960000\\\\IRSE_TR10000_TE13_TI33_0003',\n",
    "                        'E:\\\\Relaxation\\\\20230801_Agar_relaxation_pTxCP\\\\AGAR2_TEST_02\\\\BOLINQIN_TEST_20230810_145545_960000\\\\IRSE_TR10000_TE13_TI100_0004',\n",
    "                        'E:\\\\Relaxation\\\\20230801_Agar_relaxation_pTxCP\\\\AGAR2_TEST_02\\\\BOLINQIN_TEST_20230810_145545_960000\\\\IRSE_TR10000_TE13_TI500_0005',\n",
    "                        'E:\\\\Relaxation\\\\20230801_Agar_relaxation_pTxCP\\\\AGAR2_TEST_02\\\\BOLINQIN_TEST_20230810_145545_960000\\\\IRSE_TR10000_TE13_TI1000_0006',\n",
    "                        'E:\\\\Relaxation\\\\20230801_Agar_relaxation_pTxCP\\\\AGAR2_TEST_02\\\\BOLINQIN_TEST_20230810_145545_960000\\\\IRSE_TR10000_TE13_TI1500_0007',\n",
    "                        'E:\\\\Relaxation\\\\20230801_Agar_relaxation_pTxCP\\\\AGAR2_TEST_02\\\\BOLINQIN_TEST_20230810_145545_960000\\\\IRSE_TR10000_TE13_TI2000_0008',\n",
    "                        'E:\\\\Relaxation\\\\20230801_Agar_relaxation_pTxCP\\\\AGAR2_TEST_02\\\\BOLINQIN_TEST_20230810_145545_960000\\\\IRSE_TR10000_TE13_TI2500_0009',\n",
    "                        'E:\\\\Relaxation\\\\20230801_Agar_relaxation_pTxCP\\\\AGAR2_TEST_02\\\\BOLINQIN_TEST_20230810_145545_960000\\\\IRSE_TR10000_TE13_TI3000_0010']\n",
    "\n",
    "param = 'dcm2niix -z y -f '\n",
    "for i in range(len(output_nii_name)):\n",
    "    command_line = param + output_nii_name[i] + ' -o ' + output_path + ' ' + input_dcm_folder_path[i]\n",
    "    display(command_line)\n",
    "    os.system(command_line)"
   ]
  },
  {
   "cell_type": "code",
   "execution_count": 6,
   "metadata": {},
   "outputs": [
    {
     "data": {
      "text/plain": [
       "'dcm2niix -z y -f MGE -o E:\\\\Relaxation\\\\20230801_Agar_relaxation_pTxCP\\\\NIFTI\\\\Agar_02\\\\MGE E:\\\\Relaxation\\\\20230801_Agar_relaxation_pTxCP\\\\AGAR2_TEST_02\\\\BOLINQIN_TEST_20230810_145545_960000\\\\GRE_MC12_ES3_TR1200_0011'"
      ]
     },
     "metadata": {},
     "output_type": "display_data"
    },
    {
     "data": {
      "text/plain": [
       "'dcm2niix -z y -f MSE -o E:\\\\Relaxation\\\\20230801_Agar_relaxation_pTxCP\\\\NIFTI\\\\Agar_02\\\\MSE E:\\\\Relaxation\\\\20230801_Agar_relaxation_pTxCP\\\\AGAR2_TEST_02\\\\BOLINQIN_TEST_20230810_145545_960000\\\\SE_MC12_ES7P6_TR6000_0012'"
      ]
     },
     "metadata": {},
     "output_type": "display_data"
    }
   ],
   "source": [
    "path_0 = 'E:\\\\Relaxation\\\\20230801_Agar_relaxation_pTxCP\\\\NIFTI\\\\Agar_02\\\\'\n",
    "items = ['MGE','MSE']\n",
    "\n",
    "output_nii_name = ['MGE','MSE']\n",
    "input_dcm_folder_path = ['E:\\\\Relaxation\\\\20230801_Agar_relaxation_pTxCP\\\\AGAR2_TEST_02\\\\BOLINQIN_TEST_20230810_145545_960000\\\\GRE_MC12_ES3_TR1200_0011',\n",
    "                         'E:\\\\Relaxation\\\\20230801_Agar_relaxation_pTxCP\\\\AGAR2_TEST_02\\\\BOLINQIN_TEST_20230810_145545_960000\\\\SE_MC12_ES7P6_TR6000_0012']\n",
    "\n",
    "param = 'dcm2niix -z y -f '\n",
    "for i in range(len(output_nii_name)):\n",
    "    output_path = path_0+items[i]\n",
    "    command_line = param + output_nii_name[i] + ' -o ' + output_path + ' ' + input_dcm_folder_path[i]\n",
    "    display(command_line)\n",
    "    os.system(command_line)"
   ]
  },
  {
   "cell_type": "code",
   "execution_count": 23,
   "metadata": {},
   "outputs": [
    {
     "data": {
      "text/plain": [
       "'dcm2niix -z y -f GRE_FA30 -o E:\\\\Relaxation\\\\20230801_Agar_relaxation_pTxCP\\\\NIFTI\\\\Agar_10\\\\B1_Map E:\\\\Relaxation\\\\20230801_Agar_relaxation_pTxCP\\\\AGAR10_TEST_10\\\\BOLINQIN_TEST_20230810_222416_678000\\\\GRE_B1MAP_TR1200_FA30_0015'"
      ]
     },
     "metadata": {},
     "output_type": "display_data"
    },
    {
     "data": {
      "text/plain": [
       "'dcm2niix -z y -f GRE_FA60 -o E:\\\\Relaxation\\\\20230801_Agar_relaxation_pTxCP\\\\NIFTI\\\\Agar_10\\\\B1_Map E:\\\\Relaxation\\\\20230801_Agar_relaxation_pTxCP\\\\AGAR10_TEST_10\\\\BOLINQIN_TEST_20230810_222416_678000\\\\GRE_B1MAP_TR1200_FA60_0016'"
      ]
     },
     "metadata": {},
     "output_type": "display_data"
    },
    {
     "data": {
      "text/plain": [
       "'dcm2niix -z y -f Magnitude -o E:\\\\Relaxation\\\\20230801_Agar_relaxation_pTxCP\\\\NIFTI\\\\Agar_10\\\\Field_Map E:\\\\Relaxation\\\\20230801_Agar_relaxation_pTxCP\\\\AGAR10_TEST_10\\\\BOLINQIN_TEST_20230810_222416_678000\\\\GRE_FIELD_MAPPING_0013'"
      ]
     },
     "metadata": {},
     "output_type": "display_data"
    },
    {
     "data": {
      "text/plain": [
       "'dcm2niix -z y -f Phase_delta -o E:\\\\Relaxation\\\\20230801_Agar_relaxation_pTxCP\\\\NIFTI\\\\Agar_10\\\\Field_Map E:\\\\Relaxation\\\\20230801_Agar_relaxation_pTxCP\\\\AGAR10_TEST_10\\\\BOLINQIN_TEST_20230810_222416_678000\\\\GRE_FIELD_MAPPING_0014'"
      ]
     },
     "metadata": {},
     "output_type": "display_data"
    },
    {
     "data": {
      "text/plain": [
       "'dcm2niix -z y -f TI33 -o E:\\\\Relaxation\\\\20230801_Agar_relaxation_pTxCP\\\\NIFTI\\\\Agar_10\\\\IRSE E:\\\\Relaxation\\\\20230801_Agar_relaxation_pTxCP\\\\AGAR10_TEST_10\\\\BOLINQIN_TEST_20230810_222416_678000\\\\IRSE_TR10000_TE13_TI33_0003'"
      ]
     },
     "metadata": {},
     "output_type": "display_data"
    },
    {
     "data": {
      "text/plain": [
       "'dcm2niix -z y -f TI100 -o E:\\\\Relaxation\\\\20230801_Agar_relaxation_pTxCP\\\\NIFTI\\\\Agar_10\\\\IRSE E:\\\\Relaxation\\\\20230801_Agar_relaxation_pTxCP\\\\AGAR10_TEST_10\\\\BOLINQIN_TEST_20230810_222416_678000\\\\IRSE_TR10000_TE13_TI100_0004'"
      ]
     },
     "metadata": {},
     "output_type": "display_data"
    },
    {
     "data": {
      "text/plain": [
       "'dcm2niix -z y -f TI500 -o E:\\\\Relaxation\\\\20230801_Agar_relaxation_pTxCP\\\\NIFTI\\\\Agar_10\\\\IRSE E:\\\\Relaxation\\\\20230801_Agar_relaxation_pTxCP\\\\AGAR10_TEST_10\\\\BOLINQIN_TEST_20230810_222416_678000\\\\IRSE_TR10000_TE13_TI500_0005'"
      ]
     },
     "metadata": {},
     "output_type": "display_data"
    },
    {
     "data": {
      "text/plain": [
       "'dcm2niix -z y -f TI1000 -o E:\\\\Relaxation\\\\20230801_Agar_relaxation_pTxCP\\\\NIFTI\\\\Agar_10\\\\IRSE E:\\\\Relaxation\\\\20230801_Agar_relaxation_pTxCP\\\\AGAR10_TEST_10\\\\BOLINQIN_TEST_20230810_222416_678000\\\\IRSE_TR10000_TE13_TI1000_0006'"
      ]
     },
     "metadata": {},
     "output_type": "display_data"
    },
    {
     "data": {
      "text/plain": [
       "'dcm2niix -z y -f TI1500 -o E:\\\\Relaxation\\\\20230801_Agar_relaxation_pTxCP\\\\NIFTI\\\\Agar_10\\\\IRSE E:\\\\Relaxation\\\\20230801_Agar_relaxation_pTxCP\\\\AGAR10_TEST_10\\\\BOLINQIN_TEST_20230810_222416_678000\\\\IRSE_TR10000_TE13_TI1500_0007'"
      ]
     },
     "metadata": {},
     "output_type": "display_data"
    },
    {
     "data": {
      "text/plain": [
       "'dcm2niix -z y -f TI2000 -o E:\\\\Relaxation\\\\20230801_Agar_relaxation_pTxCP\\\\NIFTI\\\\Agar_10\\\\IRSE E:\\\\Relaxation\\\\20230801_Agar_relaxation_pTxCP\\\\AGAR10_TEST_10\\\\BOLINQIN_TEST_20230810_222416_678000\\\\IRSE_TR10000_TE13_TI2000_0008'"
      ]
     },
     "metadata": {},
     "output_type": "display_data"
    },
    {
     "data": {
      "text/plain": [
       "'dcm2niix -z y -f TI2500 -o E:\\\\Relaxation\\\\20230801_Agar_relaxation_pTxCP\\\\NIFTI\\\\Agar_10\\\\IRSE E:\\\\Relaxation\\\\20230801_Agar_relaxation_pTxCP\\\\AGAR10_TEST_10\\\\BOLINQIN_TEST_20230810_222416_678000\\\\IRSE_TR10000_TE13_TI2500_0009'"
      ]
     },
     "metadata": {},
     "output_type": "display_data"
    },
    {
     "data": {
      "text/plain": [
       "'dcm2niix -z y -f TI3000 -o E:\\\\Relaxation\\\\20230801_Agar_relaxation_pTxCP\\\\NIFTI\\\\Agar_10\\\\IRSE E:\\\\Relaxation\\\\20230801_Agar_relaxation_pTxCP\\\\AGAR10_TEST_10\\\\BOLINQIN_TEST_20230810_222416_678000\\\\IRSE_TR10000_TE13_TI3000_0010'"
      ]
     },
     "metadata": {},
     "output_type": "display_data"
    },
    {
     "data": {
      "text/plain": [
       "'dcm2niix -z y -f MGE -o E:\\\\Relaxation\\\\20230801_Agar_relaxation_pTxCP\\\\NIFTI\\\\Agar_10\\\\MGE E:\\\\Relaxation\\\\20230801_Agar_relaxation_pTxCP\\\\AGAR10_TEST_10\\\\BOLINQIN_TEST_20230810_222416_678000\\\\GRE_MC12_ES3_TR1200_0011'"
      ]
     },
     "metadata": {},
     "output_type": "display_data"
    },
    {
     "data": {
      "text/plain": [
       "'dcm2niix -z y -f MSE -o E:\\\\Relaxation\\\\20230801_Agar_relaxation_pTxCP\\\\NIFTI\\\\Agar_10\\\\MSE E:\\\\Relaxation\\\\20230801_Agar_relaxation_pTxCP\\\\AGAR10_TEST_10\\\\BOLINQIN_TEST_20230810_222416_678000\\\\SE_MC12_ES7P6_TR6000_0012'"
      ]
     },
     "metadata": {},
     "output_type": "display_data"
    }
   ],
   "source": [
    "# sum\n",
    "\n",
    "path_n = 'E:\\\\Relaxation\\\\20230801_Agar_relaxation_pTxCP\\\\NIFTI\\\\Agar_10\\\\'\n",
    "path_d = 'E:\\\\Relaxation\\\\20230801_Agar_relaxation_pTxCP\\\\AGAR10_TEST_10\\\\BOLINQIN_TEST_20230810_222416_678000\\\\'\n",
    "param = 'dcm2niix -z y -f '\n",
    "\n",
    "# B1_Map\n",
    "item = 'B1_Map'\n",
    "output_nii_name = ['GRE_FA30', 'GRE_FA60']\n",
    "dcm_folder_path = ['GRE_B1MAP_TR1200_FA30_0015',\n",
    "                   'GRE_B1MAP_TR1200_FA60_0016']\n",
    "for i in range(len(output_nii_name)):\n",
    "    output_path = path_n+item\n",
    "    input_dcm_folder_path = [path_d + dcm_folder for dcm_folder in dcm_folder_path]\n",
    "    command_line = param + output_nii_name[i] + ' -o ' + output_path + ' ' + input_dcm_folder_path[i]\n",
    "    display(command_line)\n",
    "    os.system(command_line)\n",
    "\n",
    "\n",
    "# Field_Map\n",
    "item = 'Field_Map'\n",
    "output_nii_name = ['Magnitude', 'Phase_delta']\n",
    "dcm_folder_path = ['GRE_FIELD_MAPPING_0013',\n",
    "                   'GRE_FIELD_MAPPING_0014']\n",
    "for i in range(len(output_nii_name)):\n",
    "    output_path = path_n+item\n",
    "    input_dcm_folder_path = [path_d + dcm_folder for dcm_folder in dcm_folder_path]\n",
    "    command_line = param + output_nii_name[i] + ' -o ' + output_path + ' ' + input_dcm_folder_path[i]\n",
    "    display(command_line)\n",
    "    os.system(command_line)\n",
    "\n",
    "\n",
    "# IRSE\n",
    "item = 'IRSE'\n",
    "output_nii_name = ['TI33', 'TI100', 'TI500', 'TI1000', 'TI1500', 'TI2000', 'TI2500', 'TI3000']\n",
    "dcm_folder_path = ['IRSE_TR10000_TE13_TI33_0003',\n",
    "                   'IRSE_TR10000_TE13_TI100_0004',\n",
    "                   'IRSE_TR10000_TE13_TI500_0005',\n",
    "                   'IRSE_TR10000_TE13_TI1000_0006',\n",
    "                   'IRSE_TR10000_TE13_TI1500_0007',\n",
    "                   'IRSE_TR10000_TE13_TI2000_0008',\n",
    "                   'IRSE_TR10000_TE13_TI2500_0009',\n",
    "                   'IRSE_TR10000_TE13_TI3000_0010']\n",
    "for i in range(len(output_nii_name)):\n",
    "    output_path = path_n+item\n",
    "    input_dcm_folder_path = [path_d + dcm_folder for dcm_folder in dcm_folder_path]\n",
    "    command_line = param + output_nii_name[i] + ' -o ' + output_path + ' ' + input_dcm_folder_path[i]\n",
    "    display(command_line)\n",
    "    os.system(command_line)\n",
    "\n",
    "\n",
    "# MGE and MSE\n",
    "items = ['MGE','MSE']\n",
    "output_nii_name = ['MGE','MSE']\n",
    "dcm_folder_path = ['GRE_MC12_ES3_TR1200_0011',\n",
    "                   'SE_MC12_ES7P6_TR6000_0012']\n",
    "for i in range(len(output_nii_name)):\n",
    "    output_path = path_n+items[i]\n",
    "    input_dcm_folder_path = [path_d + dcm_folder for dcm_folder in dcm_folder_path]\n",
    "    command_line = param + output_nii_name[i] + ' -o ' + output_path + ' ' + input_dcm_folder_path[i]\n",
    "    display(command_line)\n",
    "    os.system(command_line)\n"
   ]
  }
 ],
 "metadata": {
  "kernelspec": {
   "display_name": "base",
   "language": "python",
   "name": "python3"
  },
  "language_info": {
   "codemirror_mode": {
    "name": "ipython",
    "version": 3
   },
   "file_extension": ".py",
   "mimetype": "text/x-python",
   "name": "python",
   "nbconvert_exporter": "python",
   "pygments_lexer": "ipython3",
   "version": "3.8.8"
  },
  "orig_nbformat": 4
 },
 "nbformat": 4,
 "nbformat_minor": 2
}
